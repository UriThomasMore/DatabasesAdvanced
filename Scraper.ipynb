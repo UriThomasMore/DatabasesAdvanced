{
 "cells": [
  {
   "cell_type": "markdown",
   "metadata": {},
   "source": [
    "# Intro "
   ]
  },
  {
   "cell_type": "code",
   "execution_count": 10,
   "metadata": {},
   "outputs": [],
   "source": [
    "from bs4 import BeautifulSoup\n",
    "import requests\n",
    "import pandas as pd\n",
    "import schedule\n",
    "import time\n",
    "from csv import writer\n"
   ]
  },
  {
   "cell_type": "code",
   "execution_count": 2,
   "metadata": {},
   "outputs": [],
   "source": [
    "url = 'https://www.blockchain.com/btc/unconfirmed-transactions'\n",
    "r = requests.get(url)\n",
    "soup = BeautifulSoup(r.text)\n"
   ]
  },
  {
   "cell_type": "markdown",
   "metadata": {},
   "source": [
    "class=\"sc-1au2w4e-0 bTgHwk\""
   ]
  },
  {
   "cell_type": "markdown",
   "metadata": {},
   "source": [
    "# Elements "
   ]
  },
  {
   "cell_type": "markdown",
   "metadata": {},
   "source": [
    "sc-1ryi78w-0.cILyoi.sc-16b9dsl-1.ZwupP.u3ufsr-0.eQTRKC"
   ]
  },
  {
   "cell_type": "code",
   "execution_count": 3,
   "metadata": {},
   "outputs": [],
   "source": [
    "elements = soup.find_all(class_ = 'sc-1ryi78w-0 cILyoi sc-16b9dsl-1 ZwupP u3ufsr-0 eQTRKC')"
   ]
  },
  {
   "cell_type": "markdown",
   "metadata": {},
   "source": [
    "# Hash"
   ]
  },
  {
   "cell_type": "markdown",
   "metadata": {},
   "source": [
    "\"sc-1r996ns-0 fLwyDF sc-1tbyx6t-1 kCGMTY iklhnl-0 eEewhk d53qjk-0 ctEFcK\" "
   ]
  },
  {
   "cell_type": "code",
   "execution_count": 4,
   "metadata": {},
   "outputs": [],
   "source": [
    "hash = soup.find_all(class_ = 'sc-1r996ns-0 fLwyDF sc-1tbyx6t-1 kCGMTY iklhnl-0 eEewhk d53qjk-0 ctEFcK')"
   ]
  },
  {
   "cell_type": "markdown",
   "metadata": {},
   "source": [
    "# OverviewList"
   ]
  },
  {
   "cell_type": "code",
   "execution_count": 5,
   "metadata": {},
   "outputs": [],
   "source": [
    "overviewlist = []\n",
    "for index, item in enumerate(hash):\n",
    "    overviewlist.append([])\n",
    "    overviewlist[index].append(hash[index].getText())"
   ]
  },
  {
   "cell_type": "code",
   "execution_count": 6,
   "metadata": {},
   "outputs": [],
   "source": [
    "index =0\n",
    "i =0\n",
    "for item in enumerate(elements): \n",
    "    overviewlist[index].append(item[1].getText())    \n",
    "    i+=1  \n",
    "    if i==3: \n",
    "        index+=1\n",
    "        i=0\n",
    "        \n",
    "    "
   ]
  },
  {
   "cell_type": "markdown",
   "metadata": {},
   "source": [
    "# DataFrame"
   ]
  },
  {
   "cell_type": "code",
   "execution_count": 22,
   "metadata": {},
   "outputs": [
    {
     "data": {
      "text/html": [
       "<div>\n",
       "<style scoped>\n",
       "    .dataframe tbody tr th:only-of-type {\n",
       "        vertical-align: middle;\n",
       "    }\n",
       "\n",
       "    .dataframe tbody tr th {\n",
       "        vertical-align: top;\n",
       "    }\n",
       "\n",
       "    .dataframe thead th {\n",
       "        text-align: right;\n",
       "    }\n",
       "</style>\n",
       "<table border=\"1\" class=\"dataframe\">\n",
       "  <thead>\n",
       "    <tr style=\"text-align: right;\">\n",
       "      <th></th>\n",
       "      <th>Hash</th>\n",
       "      <th>Timestamp</th>\n",
       "      <th>BTC</th>\n",
       "      <th>USD</th>\n",
       "    </tr>\n",
       "  </thead>\n",
       "  <tbody>\n",
       "    <tr>\n",
       "      <th>23</th>\n",
       "      <td>0a7be96e4ae54ee30e2d64965f886e09b9ad79442735b7...</td>\n",
       "      <td>16:06</td>\n",
       "      <td>12.47239108 BTC</td>\n",
       "      <td>590311.04</td>\n",
       "    </tr>\n",
       "  </tbody>\n",
       "</table>\n",
       "</div>"
      ],
      "text/plain": [
       "                                                 Hash Timestamp  \\\n",
       "23  0a7be96e4ae54ee30e2d64965f886e09b9ad79442735b7...     16:06   \n",
       "\n",
       "                BTC        USD  \n",
       "23  12.47239108 BTC  590311.04  "
      ]
     },
     "execution_count": 22,
     "metadata": {},
     "output_type": "execute_result"
    }
   ],
   "source": [
    "df = pd.DataFrame(overviewlist, columns =['Hash', 'Timestamp', 'BTC', 'USD'])\n",
    "df['USD'] = df['USD'].str.replace('$', '',regex = True)\n",
    "df['USD'] = df['USD'].str.replace(',', '',regex = True)\n",
    "df['USD'] = df['USD'].astype(float)\n",
    "df =df.sort_values(by='USD', ascending=False)\n",
    "df_result =df.head(1)\n",
    "df_result.head(1)"
   ]
  },
  {
   "cell_type": "markdown",
   "metadata": {},
   "source": [
    "# Functions"
   ]
  },
  {
   "cell_type": "code",
   "execution_count": 3,
   "metadata": {},
   "outputs": [
    {
     "name": "stdout",
     "output_type": "stream",
     "text": [
      "Empty DataFrame\n",
      "Columns: [Hash, Timestamp, BTC, USD]\n",
      "Index: []\n"
     ]
    }
   ],
   "source": [
    "df = pd.DataFrame(columns = ['Hash', 'Timestamp', 'BTC','USD'])\n",
    "print(df)"
   ]
  },
  {
   "cell_type": "code",
   "execution_count": 12,
   "metadata": {},
   "outputs": [],
   "source": [
    "def addhash(hashelement,overviewlist):\n",
    "    for index, item in enumerate(hashelement):\n",
    "        overviewlist.append([])\n",
    "        overviewlist[index].append(item.getText())\n",
    "    return overviewlist"
   ]
  },
  {
   "cell_type": "code",
   "execution_count": 11,
   "metadata": {},
   "outputs": [],
   "source": [
    "def addelements(elements,overviewlist): \n",
    "    index=0\n",
    "    i=0\n",
    "    for item in enumerate(elements):        \n",
    "        overviewlist[index].append(item[1].getText())    \n",
    "        i+=1  \n",
    "        if i==3: \n",
    "            index+=1\n",
    "            i=0"
   ]
  },
  {
   "cell_type": "code",
   "execution_count": 13,
   "metadata": {},
   "outputs": [],
   "source": [
    "def createdataframe(overviewlist): \n",
    "    df= pd.DataFrame(overviewlist, columns =['Hash', 'Timestamp', 'BTC', 'USD']) \n",
    "    df['USD'] = df['USD'].str.replace('$', '',regex = True)\n",
    "    df['USD'] = df['USD'].str.replace(',', '',regex =True)\n",
    "    df['USD'] = df['USD'].astype(float)    \n",
    "    '''with open('test.csv','a')as f: \n",
    "        writer_object = writer(f)\n",
    "        writer_object.writerow(overviewlist)\n",
    "        f.close()'''\n",
    "    df.to_csv('test.csv',mode ='a',header = False, index =False)   \n",
    "    return  df\n",
    "    "
   ]
  },
  {
   "cell_type": "code",
   "execution_count": 15,
   "metadata": {},
   "outputs": [],
   "source": [
    "def savedataframetocsv(timestamp,df): \n",
    "    df.to_csv(f'/home/udhaesel/Desktop/Dataframe/file{str(timestamp)}.csv', header = True,index=True)"
   ]
  },
  {
   "cell_type": "code",
   "execution_count": 16,
   "metadata": {},
   "outputs": [],
   "source": [
    "def createcompletedataframe(dataframe,completedataframe):\n",
    "    completedataframe = completedataframe.append(dataframe)\n",
    "    \n",
    "    return completedataframe\n"
   ]
  },
  {
   "cell_type": "code",
   "execution_count": 17,
   "metadata": {},
   "outputs": [],
   "source": [
    "def updatecurrentoverview(newtimestamp):\n",
    "     \n",
    "     col_names =['Hash', 'Timestamp', 'BTC', 'USD']\n",
    "   \n",
    "     current_overview = pd.read_csv('test.csv',names=col_names)     \n",
    "     currenttimestamp=current_overview.iloc[1]['Timestamp']      \n",
    "     \n",
    "     if newtimestamp != currenttimestamp:               \n",
    "          rslt_df = current_overview.loc[current_overview['Timestamp']==currenttimestamp] \n",
    "          rslt_df =rslt_df.sort_values(by='USD', ascending=False)    \n",
    "                  \n",
    "          timestampresult =rslt_df.values.tolist()\n",
    "          timestampresult = f\"Timestamp: {timestampresult [0][1]} - Hash: { timestampresult [0][0]} - BTC : {timestampresult [0][2]} - USD: {timestampresult [0][3]}\" \n",
    "          print(\"Saved to timesamp\")\n",
    "          overviewtimestamps =[]          \n",
    "          if timestampresult[0][0] not in overviewtimestamps:\n",
    "               with open('timestamps.txt', 'a') as f:\n",
    "                    f.write('\\n'+timestampresult )          \n",
    "                    f.close()\n",
    "               overviewtimestamps.append(timestampresult[0][0])\n",
    "          newcurrentoverview =current_overview[current_overview['Timestamp'] != currenttimestamp]     \n",
    "          newcurrentoverview.to_csv('test.csv',mode ='w',header = False,index =False)\n",
    "          savedataframetocsv(newcurrentoverview.iloc[1]['Timestamp'],newcurrentoverview)\n",
    "     else: \n",
    "          print(\"Scraping\")\n",
    "\n"
   ]
  },
  {
   "cell_type": "code",
   "execution_count": 19,
   "metadata": {},
   "outputs": [],
   "source": [
    "def scraper():    \n",
    "    url = 'https://www.blockchain.com/btc/unconfirmed-transactions'\n",
    "    r = requests.get(url)\n",
    "    soup = BeautifulSoup(r.text)\n",
    "    elements = soup.find_all(class_ = 'sc-1ryi78w-0 cILyoi sc-16b9dsl-1 ZwupP u3ufsr-0 eQTRKC')\n",
    "    hashelement = soup.find_all(class_ = 'sc-1r996ns-0 fLwyDF sc-1tbyx6t-1 kCGMTY iklhnl-0 eEewhk d53qjk-0 ctEFcK')\n",
    "    \n",
    "    overviewlist = []\n",
    "    addhash(hashelement,overviewlist)    \n",
    "    addelements(elements, overviewlist)\n",
    "    new_timestamp = overviewlist[0][1]\n",
    "       \n",
    "    \n",
    "    #print(df_complete)     \n",
    "    df_result= createdataframe(overviewlist)\n",
    "    #print(df_result)\n",
    "    \n",
    "    #print(current_overview)    \n",
    "    updatecurrentoverview(new_timestamp)\n",
    "        \n",
    "    '''final_result =df_result.values.tolist()\n",
    "    savedataframetocsv(final_result[0][1],df)\n",
    "    print(f\"Timestamp: {final_result[0][1]} - Hash: { final_result[0][0]} - BTC : {final_result[0][2]} - USD: {final_result[0][3]}\")'''\n",
    "\n",
    "    "
   ]
  },
  {
   "cell_type": "code",
   "execution_count": 35,
   "metadata": {},
   "outputs": [
    {
     "name": "stdout",
     "output_type": "stream",
     "text": [
      "08:36\n",
      "Scraping\n"
     ]
    }
   ],
   "source": [
    "df_complete= pd.DataFrame(columns =['Hash', 'Timestamp', 'BTC', 'USD']) \n",
    "scraper(df_complete)\n"
   ]
  },
  {
   "cell_type": "markdown",
   "metadata": {},
   "source": [
    "# Schedule "
   ]
  },
  {
   "cell_type": "code",
   "execution_count": 20,
   "metadata": {},
   "outputs": [
    {
     "name": "stdout",
     "output_type": "stream",
     "text": [
      "Scraping\n",
      "Scraping\n",
      "Scraping\n",
      "Saved to timesamp\n",
      "Scraping\n",
      "Scraping\n",
      "Scraping\n",
      "Scraping\n",
      "Scraping\n",
      "Scraping\n",
      "Scraping\n",
      "Saved to timesamp\n",
      "Saved to timesamp\n",
      "Scraping\n",
      "Scraping\n",
      "Scraping\n",
      "Scraping\n",
      "Scraping\n",
      "Scraping\n",
      "Saved to timesamp\n",
      "Saved to timesamp\n",
      "Scraping\n",
      "Scraping\n",
      "Scraping\n",
      "Scraping\n",
      "Scraping\n",
      "Scraping\n",
      "Saved to timesamp\n",
      "Saved to timesamp\n",
      "Scraping\n",
      "Scraping\n",
      "Scraping\n",
      "Scraping\n",
      "Scraping\n",
      "Scraping\n",
      "Saved to timesamp\n",
      "Scraping\n",
      "Scraping\n",
      "Scraping\n",
      "Scraping\n",
      "Scraping\n",
      "Scraping\n",
      "Scraping\n",
      "Saved to timesamp\n",
      "Scraping\n",
      "Scraping\n",
      "Scraping\n",
      "Saved to timesamp\n",
      "Scraping\n",
      "Scraping\n",
      "Scraping\n",
      "Scraping\n",
      "Scraping\n",
      "Scraping\n",
      "Scraping\n",
      "Saved to timesamp\n",
      "Saved to timesamp\n"
     ]
    },
    {
     "ename": "KeyboardInterrupt",
     "evalue": "",
     "output_type": "error",
     "traceback": [
      "\u001b[0;31m---------------------------------------------------------------------------\u001b[0m",
      "\u001b[0;31mKeyboardInterrupt\u001b[0m                         Traceback (most recent call last)",
      "\u001b[0;32m/tmp/ipykernel_3792/47719392.py\u001b[0m in \u001b[0;36m<module>\u001b[0;34m\u001b[0m\n\u001b[1;32m      3\u001b[0m \u001b[0;32mwhile\u001b[0m \u001b[0;32mTrue\u001b[0m\u001b[0;34m:\u001b[0m\u001b[0;34m\u001b[0m\u001b[0;34m\u001b[0m\u001b[0m\n\u001b[1;32m      4\u001b[0m     \u001b[0mschedule\u001b[0m\u001b[0;34m.\u001b[0m\u001b[0mrun_pending\u001b[0m\u001b[0;34m(\u001b[0m\u001b[0;34m)\u001b[0m\u001b[0;34m\u001b[0m\u001b[0;34m\u001b[0m\u001b[0m\n\u001b[0;32m----> 5\u001b[0;31m     \u001b[0mtime\u001b[0m\u001b[0;34m.\u001b[0m\u001b[0msleep\u001b[0m\u001b[0;34m(\u001b[0m\u001b[0;36m15\u001b[0m\u001b[0;34m)\u001b[0m\u001b[0;34m\u001b[0m\u001b[0;34m\u001b[0m\u001b[0m\n\u001b[0m",
      "\u001b[0;31mKeyboardInterrupt\u001b[0m: "
     ]
    }
   ],
   "source": [
    "schedule.every(15).seconds.do(scraper)\n",
    "\n",
    "while True: \n",
    "    schedule.run_pending()\n",
    "    time.sleep(15)"
   ]
  }
 ],
 "metadata": {
  "interpreter": {
   "hash": "916dbcbb3f70747c44a77c7bcd40155683ae19c65e1c03b4aa3499c5328201f1"
  },
  "kernelspec": {
   "display_name": "Python 3.8.10 64-bit",
   "name": "python3"
  },
  "language_info": {
   "codemirror_mode": {
    "name": "ipython",
    "version": 3
   },
   "file_extension": ".py",
   "mimetype": "text/x-python",
   "name": "python",
   "nbconvert_exporter": "python",
   "pygments_lexer": "ipython3",
   "version": "3.8.10"
  },
  "orig_nbformat": 4
 },
 "nbformat": 4,
 "nbformat_minor": 2
}
